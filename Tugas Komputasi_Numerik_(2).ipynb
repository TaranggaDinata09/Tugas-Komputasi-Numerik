{
  "nbformat": 4,
  "nbformat_minor": 0,
  "metadata": {
    "colab": {
      "provenance": []
    },
    "kernelspec": {
      "name": "python3",
      "display_name": "Python 3"
    },
    "language_info": {
      "name": "python"
    }
  },
  "cells": [
    {
      "cell_type": "code",
      "execution_count": null,
      "metadata": {
        "id": "4YxfmerEtuZn"
      },
      "outputs": [],
      "source": [
        "import numpy as np  # library untuk melakukan operasi matematika\n",
        "\n",
        "def bisection(f, a, b, tol):\n",
        "    # Mengecek apakah f(a) dan f(b) memiliki tanda yang sama ?\n",
        "    if np.sign(f(a)) == np.sign(f(b)):\n",
        "        raise Exception(\"tidak bisa\")  # Jika sama tanda, metode tidak dapat digunakan\n",
        "\n",
        "    m = (a + b) / 2  # Menghitung titik tengah interval [a, b]\n",
        "\n",
        "    # Mengecek apakah nilai fungsi di titik tengah mendekati nol\n",
        "    if np.abs(f(m)) < tol:\n",
        "        return m  # Mengembalikan nilai m sebagai akar\n",
        "    elif np.sign(f(a)) == np.sign(f(m)):\n",
        "        # Jika f(a) dan f(m) memiliki tanda yang sama, memperbarui interval ke [m, b]\n",
        "        return bisection(f, m, b, tol)\n",
        "    elif np.sign(f(b)) == np.sign(f(m)):\n",
        "        # Jika f(b) dan f(m) memiliki tanda yang sama, memperbarui interval ke [a, m]\n",
        "        return bisection(f, a, m, tol)\n"
      ]
    },
    {
      "cell_type": "code",
      "source": [
        "# Fungsi untuk mencari akarnya, dalam hal ini f(x) = x^2 - 2\n",
        "f = lambda x: x**2 - 2  # Fungsi lambda: f(x) = x^2 - 2\n"
      ],
      "metadata": {
        "id": "sUdUP-nbuRHN"
      },
      "execution_count": null,
      "outputs": []
    },
    {
      "cell_type": "code",
      "source": [
        "# Mencari akar dengan toleransi 0.1\n",
        "r1 = bisection(f, 0, 2, 0.1)  # Memanggil fungsi bisection dengan interval [0, 2] dan toleransi 0.1\n",
        "print(\"r1 =\", r1)  # Menampilkan hasil akar pertama\n",
        "\n",
        "# Mencari akar dengan toleransi 0.01\n",
        "r01 = bisection(f, 0, 2, 0.01)  # Memanggil fungsi bisection dengan interval [0, 2] dan toleransi 0.01\n",
        "print(\"r01 =\", r01)  # Menampilkan hasil akar kedua\n",
        "\n",
        "# Memeriksa nilai fungsi di titik akar\n",
        "print(\"f(r1) =\", f(r1))  # Menampilkan nilai fungsi f di akar pertama\n",
        "print(\"f(r01) =\", f(r01))  # Menampilkan nilai fungsi f di akar kedua\n"
      ],
      "metadata": {
        "id": "LsXi461rudA_"
      },
      "execution_count": null,
      "outputs": []
    }
  ]
}
