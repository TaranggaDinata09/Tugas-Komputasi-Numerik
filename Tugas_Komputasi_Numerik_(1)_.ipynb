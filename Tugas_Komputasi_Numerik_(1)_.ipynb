{
  "nbformat": 4,
  "nbformat_minor": 0,
  "metadata": {
    "colab": {
      "provenance": []
    },
    "kernelspec": {
      "name": "python3",
      "display_name": "Python 3"
    },
    "language_info": {
      "name": "python"
    }
  },
  "cells": [
    {
      "cell_type": "code",
      "execution_count": null,
      "metadata": {
        "id": "ujw-xobPoic0"
      },
      "outputs": [],
      "source": [
        "# Inisialisasi matriks Sistem Persamaan Linear\n",
        "SPL =\n",
        " ([[2, 3, -1, 5],\n",
        " [4, 4, -3, 3],\n",
        "  [-2, 3, -1, 1]])  # Matriks SPL (koefisien)\n",
        "print(\"Sistem Persamaan Linear matriks adalah \", SPL)  # Menampilkan matriks awal\n"
      ]
    },
    {
      "cell_type": "code",
      "source": [
        "# Melakukan perubahan (untuk mengubah baris 2)\n",
        "for i in range(4):  # Mengiterasi setiap elemen di baris 2\n",
        "    SPL[1][i] = SPL[1][i] - (2 * SPL[0][i])  # pengurangan elemen baris 2 dengan 2 * elemen baris 1\n"
      ],
      "metadata": {
        "id": "nrHd3ojooy_w"
      },
      "execution_count": null,
      "outputs": []
    },
    {
      "cell_type": "code",
      "source": [
        "# Melakukan perubahan (untuk mengubah baris ke 3)\n",
        "for i in range(4):  # Pengulangan / looping setiap elemen di baris ke 3\n",
        "    SPL[2][i] = SPL[2][i] - (-1 * SPL[0][i])  # Pengurangan elemen baris 3 dengan -1 * elemen baris 1\n",
        "\n",
        "# Perhitungan elemen baris ke 3 dengan baris ke-2\n",
        "for i in range(3):  # Pengulangan mulai dari kolom 2 hingga kolom 4 di baris 3\n",
        "    SPL[2][i+1] = SPL[2][i+1] - (-3 * SPL[1][i+1])  # Pengurangan elemen baris 3 dengan -3 * elemen baris 2\n"
      ],
      "metadata": {
        "id": "hO08jT1So6hP"
      },
      "execution_count": null,
      "outputs": []
    },
    {
      "cell_type": "code",
      "source": [
        "# Menampilkan elemen baris ke-2, kolom ke-2\n",
        "SPL[1][1]"
      ],
      "metadata": {
        "id": "YYK2A4UUo9CK"
      },
      "execution_count": null,
      "outputs": []
    }
  ]
}